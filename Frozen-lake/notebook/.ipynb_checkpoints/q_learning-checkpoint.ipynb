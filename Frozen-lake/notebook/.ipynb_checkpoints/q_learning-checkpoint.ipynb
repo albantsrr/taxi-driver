{
 "cells": [
  {
   "cell_type": "code",
   "execution_count": 1,
   "id": "95b4f592-d20a-4839-9b3f-f0e10c5a9a79",
   "metadata": {},
   "outputs": [],
   "source": [
    "import random\n",
    "import gymnasium as gym\n",
    "import matplotlib.pyplot as plt\n",
    "import logging\n",
    "logging.basicConfig(level=logging.WARNING)"
   ]
  },
  {
   "cell_type": "code",
   "execution_count": 2,
   "id": "0532eb8c-fbbd-4d29-bf6f-28cdae8f90c5",
   "metadata": {},
   "outputs": [],
   "source": [
    "def update_reward(qtable, state, action, new_state, alpha, gamma):\n",
    "    old_reward = qtable[state][action]\n",
    "    # max[a](Q[s+1,a]) --> B\n",
    "    next_better_value = max(qtable[new_state])\n",
    "    # gamma * B --> C\n",
    "    new_reward = next_better_value * gamma\n",
    "    # reward + C - A --> D\n",
    "    new_reward = new_reward + res[1] - old_reward\n",
    "    # alpha * D --> E\n",
    "    new_reward = new_reward * alpha\n",
    "    # A + E --> Q[s,a]\n",
    "    new_reward = new_reward + old_reward\n",
    "\n",
    "    logging.info(f\"old_reward: {old_reward}\")\n",
    "    logging.info(f\"new_reward: {new_reward}\\n\")\n",
    "\n",
    "    return new_reward"
   ]
  },
  {
   "cell_type": "code",
   "execution_count": 3,
   "id": "e44271ef-d879-43db-9638-71662497cbd5",
   "metadata": {},
   "outputs": [],
   "source": [
    "def show(list_result):\n",
    "    arrayX = []\n",
    "    arrayY = []\n",
    "    nb_total = len(list_result)\n",
    "    for i in range(nb_total):\n",
    "        result = list_result[:i].count(1)\n",
    "        # value = result/(i+1)\n",
    "        arrayY.append(result) \n",
    "        arrayX.append(i)\n",
    "\n",
    "    plt.plot(arrayX, arrayY)\n",
    "\n",
    "    plt.xlabel('X')\n",
    "    plt.ylabel('Y')\n",
    "    plt.title(\"\")\n",
    "\n",
    "    plt.show()\n"
   ]
  },
  {
   "cell_type": "code",
   "execution_count": 4,
   "id": "94a5a523-f402-4037-8993-e966a6bc9ff6",
   "metadata": {},
   "outputs": [],
   "source": [
    "# GLB_NB_ROW = 7\n",
    "# GLB_NB_COLUMN = 12 \n",
    "# map_matrice = [['F' for _ in range(GLB_NB_COLUMN)] for _ in range(GLB_NB_ROW)]\n",
    "\n",
    "\n",
    "# number_of_state = GLB_NB_ROW*GLB_NB_COLUMN \n",
    "# nb_hole = int(number_of_state*0.2)\n",
    "\n",
    "\n",
    "# list_indice_hole = []\n",
    "# indice_goal = None\n",
    "\n",
    "# list_indice_hole = random.sample(range(number_of_state), nb_hole)\n",
    "# indice_goal = random.randint(4, number_of_state-1)\n",
    "# while(indice_goal in list_indice_hole):\n",
    "#     indice_goal = random.randint(4, number_of_state-1)\n",
    "\n",
    "# for i in range(len(list_indice_hole)):\n",
    "#     indice = list_indice_hole[i]\n",
    "#     row_indice = indice // GLB_NB_COLUMN\n",
    "#     column_indice = indice % GLB_NB_ROW\n",
    "\n",
    "#     map_matrice[row_indice][column_indice] = 'H'\n",
    "\n",
    "\n",
    "# row_indice = indice_goal // GLB_NB_COLUMN\n",
    "# column_indice = indice_goal % GLB_NB_ROW\n",
    "# map_matrice[row_indice][column_indice] = 'G'\n",
    "\n",
    "\n",
    "# custom_map = [''.join(row) for row in map_matrice]\n",
    "# print(custom_map)"
   ]
  },
  {
   "cell_type": "code",
   "execution_count": 5,
   "id": "2b1fd2c9-a6b6-4480-92c1-55f3a0557815",
   "metadata": {},
   "outputs": [
    {
     "name": "stderr",
     "output_type": "stream",
     "text": [
      "c:\\Users\\Nicolas\\Desktop\\Epitech-Gitlab\\T-AIA-902-TLS_6\\.venv\\lib\\site-packages\\gymnasium\\envs\\toy_text\\frozen_lake.py:237: RuntimeWarning: invalid value encountered in divide\n",
      "  self.initial_state_distrib /= self.initial_state_distrib.sum()\n"
     ]
    }
   ],
   "source": [
    "LEFT = 0\n",
    "DOWN = 1\n",
    "RIGHT = 2\n",
    "UP = 3\n",
    "\n",
    "custom_map = [  'FFHHFFFFFFFF',\n",
    "                'HFFFHHFFFFFF',\n",
    "                'HFHFFHFFFFFF',\n",
    "                'FFFFHFFFFFFF',\n",
    "                'FFFFFFHFFFFF',\n",
    "                'HFFFFFFFFFFF',\n",
    "                'FFGFHFFFFFFF']\n",
    "\n",
    "# create the environment\n",
    "# environment = gym.make(\"FrozenLake-v1\", desc=custom_map, is_slippery=False, render_mode=\"human\")\n",
    "environment = gym.make(\"FrozenLake-v1\", desc=custom_map, is_slippery=False)"
   ]
  },
  {
   "cell_type": "code",
   "execution_count": 6,
   "id": "d0518848-3de2-4f37-8681-8e74223c6c2d",
   "metadata": {},
   "outputs": [],
   "source": [
    "# create matrix [state*action]\n",
    "state_size = environment.observation_space.n \n",
    "action_size = environment.action_space.n  \n",
    "\n",
    "logging.info(f\"State size: {state_size}\")\n",
    "logging.info(f\"Action size: {action_size}\\n\")\n",
    "\n",
    "# Init the qTable\n",
    "qtable = [[0 for _ in range(action_size)] for _ in range(state_size)]\n",
    "# qtable =[[0.0, 0.0, 0.0, 0.0], [0.0, 0.0, 0.0, 0.0], [0.0, 0.0, 0.0, 0.0], [0.0, 0.0, 0.0, 0.0], [0.0, 0.0, 0.0, 0.0], [0, 0, 0, 0], [0.0, 0.0, 0.0, 0.0], [0, 0, 0, 0], [0.0, 0.0, 0.0, 0.0], [0.0, 0.0, 0.0, 0.0], [0.0, 0.3375, 0.0, 0.0], [0, 0, 0, 0], [0, 0, 0, 0], [0, 0.0, 0.225, 0.0], [0.0, 0, 0.875, 0], [0, 0, 0, 0]]\n"
   ]
  },
  {
   "cell_type": "code",
   "execution_count": 7,
   "id": "dadfdaf0-9964-405a-9235-817677217cdd",
   "metadata": {},
   "outputs": [],
   "source": [
    "\n",
    "# Init parameters\n",
    "episode = 2000\n",
    "alpha = 0.5\n",
    "gamma = 0.9\n",
    "\n",
    "logging.info(f\"number episode: {episode}\")\n",
    "logging.info(f\"value alpha: {alpha}\")\n",
    "logging.info(f\"value gamma: {gamma}\\n\")\n",
    "\n",
    "list_result = []\n",
    "list_saved_path = []\n",
    "\n",
    "## Train ##\n",
    "for _ in range(episode):\n",
    "    # restart the env\n",
    "    environment.reset() \n",
    "    # init the first state\n",
    "    state = 0\n",
    "    done = False \n",
    "\n",
    "    # path buffer for each episode\n",
    "    path = []\n",
    "    while(not done):        \n",
    "        if(max(qtable[state]) > 0):\n",
    "            better_value = max(qtable[state])\n",
    "            action =  qtable[state].index(better_value)\n",
    "        else:\n",
    "            action = environment.action_space.sample()\n",
    "\n",
    "        res = environment.step(action)\n",
    "\n",
    "        # q_learning update formule:\n",
    "        # Q[s,a] = Q[s,a] + alpha*(reward + gamma*max[a](Q[s+1,a]) - Q[s,a])\n",
    "        new_reward = update_reward(qtable, state, action, res[0], alpha, gamma)\n",
    " \n",
    "        qtable[state][action] = new_reward - 0.0001\n",
    "\n",
    "        path.append(action)\n",
    "\n",
    "        state = res[0]\n",
    "        done = res[2]\n",
    "\n",
    "    if(res[1] == 1):\n",
    "        list_saved_path.append(path)\n",
    "        list_result.append(1)\n",
    "    else:\n",
    "        list_result.append(0)\n",
    "    "
   ]
  },
  {
   "cell_type": "code",
   "execution_count": 8,
   "id": "f774aacf-fe70-4b12-a3d7-a6caed34d741",
   "metadata": {},
   "outputs": [
    {
     "data": {
      "image/png": "[encoded data removed]",
      "text/plain": [
       "<Figure size 640x480 with 1 Axes>"
      ]
     },
     "metadata": {},
     "output_type": "display_data"
    }
   ],
   "source": [
    "show(list_result)"
   ]
  },
  {
   "cell_type": "code",
   "execution_count": 9,
   "id": "1bec1555-613b-40f7-b8ee-2308c4c140c9",
   "metadata": {},
   "outputs": [
    {
     "name": "stdout",
     "output_type": "stream",
     "text": [
      "[[3, 3, 2, 0, 3, 0, 3, 2, 1, 2, 0, 3, 3, 1, 1, 1, 1, 1, 2, 1], [2, 1, 1, 1, 2, 1, 1, 1], [2, 1, 1, 3, 1, 1, 0, 2, 1, 2, 1, 1]]\n"
     ]
    }
   ],
   "source": [
    "number_good_path = len(list_saved_path)\n",
    "# print(qtable)\n",
    "# print(list_saved_path[number_good_path - 3:])"
   ]
  },
  {
   "cell_type": "code",
   "execution_count": 10,
   "id": "1ed2b062-9d99-4ac0-af89-25e6f3eb7869",
   "metadata": {},
   "outputs": [],
   "source": [
    "list_path = list_saved_path[:10]\n",
    "environment = gym.make(\"FrozenLake-v1\", desc=custom_map, is_slippery=False, render_mode=\"human\")\n",
    "for i in range(len(list_path)):\n",
    "    good_path = list_path[i]\n",
    "    environment.reset()\n",
    "    for j in range(len(good_path)):\n",
    "        action = good_path[j]\n",
    "        environment.step(action)\n",
    "\n",
    "environment.close()"
   ]
  }
 ],
 "metadata": {
  "kernelspec": {
   "display_name": "Python 3 (ipykernel)",
   "language": "python",
   "name": "python3"
  },
  "language_info": {
   "codemirror_mode": {
    "name": "ipython",
    "version": 3
   },
   "file_extension": ".py",
   "mimetype": "text/x-python",
   "name": "python",
   "nbconvert_exporter": "python",
   "pygments_lexer": "ipython3",
   "version": "3.10.0"
  }
 },
 "nbformat": 4,
 "nbformat_minor": 5
}
