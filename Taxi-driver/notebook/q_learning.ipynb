{
 "cells": [
  {
   "cell_type": "code",
   "execution_count": 10,
   "id": "1117068c-8857-49f7-98b8-92d17f862b54",
   "metadata": {},
   "outputs": [],
   "source": [
    "import gymnasium as gym\n",
    "import matplotlib.pyplot as plt\n",
    "import time"
   ]
  },
  {
   "cell_type": "markdown",
   "id": "270e07c2-cbbf-4d7f-b1cf-4fc332b44bd2",
   "metadata": {},
   "source": [
    "# Creation of the environment"
   ]
  },
  {
   "cell_type": "markdown",
   "id": "7bd1c684-4899-4357-96d9-970a3d7fe4a9",
   "metadata": {},
   "source": [
    "Official doc: https://www.gymlibrary.dev/environments/toy_text/taxi/"
   ]
  },
  {
   "cell_type": "code",
   "execution_count": 14,
   "id": "6496e673-763d-49ac-945b-39adecae436a",
   "metadata": {},
   "outputs": [],
   "source": [
    "env = gym.make('Taxi-v3', render_mode=\"human\")"
   ]
  },
  {
   "cell_type": "markdown",
   "id": "a7eb8355-40e6-437b-9e24-19a52d875d2b",
   "metadata": {
    "jp-MarkdownHeadingCollapsed": true
   },
   "source": [
    "## Environmental analysis "
   ]
  },
  {
   "cell_type": "code",
   "execution_count": 21,
   "id": "16e97a79-cc24-4fcf-aa59-19fcd375ccd0",
   "metadata": {
    "scrolled": true
   },
   "outputs": [
    {
     "name": "stdout",
     "output_type": "stream",
     "text": [
      "State size: 500\n",
      "Action size: 6\n"
     ]
    }
   ],
   "source": [
    "# Show env\n",
    "env = gym.make('Taxi-v3', render_mode=\"human\")\n",
    "env.reset()\n",
    "\n",
    "env.render()\n",
    "time.sleep(2)\n",
    "env.close()\n",
    "\n",
    "# Action allowed\n",
    "DOWN= 0\n",
    "UP= 1\n",
    "RIGHT = 2\n",
    "LEFT= 3\n",
    "PICK= 4\n",
    "DROP_OFF= 5\n",
    "\n",
    "# get state and action size\n",
    "state_size = env.observation_space.n\n",
    "action_size = env.action_space.n\n",
    "\n",
    "print(f\"State size: {state_size}\")\n",
    "print(f\"Action size: {action_size}\")\n",
    "\n"
   ]
  },
  {
   "cell_type": "markdown",
   "id": "48cb80a3-241e-4604-b370-56922e77b9ca",
   "metadata": {},
   "source": [
    "The passenger location can be in the zones R(ed), G(reen), Y(ellown) and B(lue) or in the taxi\n",
    "for each location tere is a value associated (R=0, G=1, Y=2, B=3, T=4)\n",
    "\n",
    "The destination location can be in the zones R(ed), G(reen), Y(ellown) and B(lue)\n",
    "for each location tere is a value associated (R=0, G=1, Y=2, B=3, T=4)"
   ]
  },
  {
   "cell_type": "markdown",
   "id": "e86ae0ad-28da-4511-a87c-cca4428a4637",
   "metadata": {},
   "source": [
    "## Init variables"
   ]
  },
  {
   "cell_type": "code",
   "execution_count": null,
   "id": "86ae3bf7-9342-43cd-b684-11946f8beb56",
   "metadata": {},
   "outputs": [],
   "source": [
    "\n",
    "state_size = env.observation_space.n\n",
    "action_size = env.action_space.n\n",
    "\n",
    "# Init the qTable\n",
    "qtable = [[0 for _ in range(action_size)] for _ in range(state_size)]\n",
    "\n",
    "# Init parameters\n",
    "episode = 3000\n",
    "alpha = 0.5\n",
    "gamma = 0.9"
   ]
  }
 ],
 "metadata": {
  "kernelspec": {
   "display_name": "Python 3 (ipykernel)",
   "language": "python",
   "name": "python3"
  },
  "language_info": {
   "codemirror_mode": {
    "name": "ipython",
    "version": 3
   },
   "file_extension": ".py",
   "mimetype": "text/x-python",
   "name": "python",
   "nbconvert_exporter": "python",
   "pygments_lexer": "ipython3",
   "version": "3.10.0"
  }
 },
 "nbformat": 4,
 "nbformat_minor": 5
}
