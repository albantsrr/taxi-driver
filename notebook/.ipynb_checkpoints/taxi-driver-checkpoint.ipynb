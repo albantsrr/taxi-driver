{
 "cells": [
  {
   "cell_type": "code",
   "execution_count": 1,
   "id": "792e7981-f960-42a1-ad72-af581a31e76f",
   "metadata": {},
   "outputs": [
    {
     "name": "stdout",
     "output_type": "stream",
     "text": [
      "zsh:1: command not found: pip\n"
     ]
    }
   ],
   "source": [
    "!pip install gymnasium"
   ]
  },
  {
   "cell_type": "code",
   "execution_count": 1,
   "id": "6bfcec13-bcd2-4249-b5d3-2834d92c8678",
   "metadata": {},
   "outputs": [],
   "source": [
    "import numpy as np \n",
    "import gymnasium as gym\n",
    "import random \n",
    "import os\n",
    "import csv \n",
    "from datetime import datetime"
   ]
  },
  {
   "cell_type": "code",
   "execution_count": null,
   "id": "d30bfe1f-6102-41ea-b857-d43e2d25d1e6",
   "metadata": {
    "scrolled": true
   },
   "outputs": [
    {
     "name": "stdout",
     "output_type": "stream",
     "text": [
      "Q-table chargée avec succès.\n",
      "Paramètres chargés: epsilon=0.49658530379140947, start_episode=141\n"
     ]
    }
   ],
   "source": [
    "\n",
    "def main():\n",
    "    env = gym.make('Taxi-v3', render_mode=\"human\")\n",
    "    state_size = env.observation_space.n\n",
    "    action_size = env.action_space.n\n",
    "\n",
    "    qtable_filename = \"qtable.npy\"\n",
    "    if os.path.exists(qtable_filename):\n",
    "        qtable = np.load(qtable_filename)\n",
    "        print(\"Q-table chargée avec succès.\")\n",
    "    else:\n",
    "        qtable = np.zeros((state_size, action_size))\n",
    "        print(\"Nouvelle Q-table initialisée.\")\n",
    "\n",
    "    params_filename = \"training_params.npy\"\n",
    "    if os.path.exists(params_filename):\n",
    "        params = np.load(params_filename, allow_pickle=True).item()\n",
    "        epsilon = params.get('epsilon', 1)\n",
    "        start_episode = params.get('episode', 0) + 1\n",
    "        print(f\"Paramètres chargés: epsilon={epsilon}, start_episode={start_episode}\")\n",
    "    else:\n",
    "        epsilon = 1\n",
    "        start_episode = 0\n",
    "\n",
    "    learning_rate = 0.9\n",
    "    discount_rate = 0.8\n",
    "    decay_rate = 0.005\n",
    "\n",
    "    num_episodes = 200\n",
    "    num_steps = 99\n",
    "\n",
    "    metrics_filename = 'training_metrics.csv'\n",
    "    file_mode = \"a\" if os.path.exists(metrics_filename) else \"w\"\n",
    "    with open(metrics_filename, mode=file_mode, newline='') as file:\n",
    "        writer = csv.writer(file)\n",
    "        if file_mode == \"w\":\n",
    "            writer.writerow([\"Episode\", \"Total Rewards\", \"Steps\", \"Epsilon\", \"Date\"])\n",
    "\n",
    "    for episode in range(start_episode, num_episodes):\n",
    "        state, _ = env.reset()\n",
    "        total_rewards = 0\n",
    "        steps = 0\n",
    "        done = False\n",
    "\n",
    "        for step in range(num_steps):\n",
    "            if random.uniform(0,1) < epsilon:\n",
    "                action = env.action_space.sample()\n",
    "            else:\n",
    "                action = np.argmax(qtable[state,:])\n",
    "\n",
    "            new_state, reward, done, info = env.step(action)[:4]\n",
    "\n",
    "            total_rewards += reward\n",
    "            steps+=1\n",
    "\n",
    "            qtable[state,action] = qtable[state,action] + learning_rate * (reward + discount_rate * np.max(qtable[new_state,:]) - qtable[state,action])\n",
    "\n",
    "            state = new_state\n",
    "\n",
    "            if done:\n",
    "                break\n",
    "\n",
    "        epsilon = np.exp(-decay_rate * episode)\n",
    "        current_time = datetime.now().strftime(\"%Y-%m-%d %H:%M:%S\")\n",
    "\n",
    "        with open(metrics_filename, mode='a', newline='') as file:\n",
    "            writer = csv.writer(file)\n",
    "            writer.writerow([episode, total_rewards, steps, epsilon, current_time])\n",
    "\n",
    "        if episode % 10 == 0:\n",
    "            np.save(qtable_filename, qtable)\n",
    "            np.save(params_filename, {'epsilon': epsilon, 'episode': episode})\n",
    "            print(f\"Épisode {episode}: Q-table et paramètres sauvegardés.\")\n",
    "\n",
    "    print(\"Entraînement terminé.\")\n",
    "\n",
    "if __name__ == \"__main__\":\n",
    "    main()\n"
   ]
  },
  {
   "cell_type": "code",
   "execution_count": null,
   "id": "2c1b8a77-eb0c-4c10-9cd8-665e465ebc87",
   "metadata": {},
   "outputs": [],
   "source": []
  }
 ],
 "metadata": {
  "kernelspec": {
   "display_name": "Python 3 (ipykernel)",
   "language": "python",
   "name": "python3"
  },
  "language_info": {
   "codemirror_mode": {
    "name": "ipython",
    "version": 3
   },
   "file_extension": ".py",
   "mimetype": "text/x-python",
   "name": "python",
   "nbconvert_exporter": "python",
   "pygments_lexer": "ipython3",
   "version": "3.11.6"
  }
 },
 "nbformat": 4,
 "nbformat_minor": 5
}
