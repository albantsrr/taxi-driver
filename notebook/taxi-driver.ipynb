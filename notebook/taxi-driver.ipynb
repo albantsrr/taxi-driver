{
 "cells": [
  {
   "cell_type": "code",
   "execution_count": 2,
   "id": "792e7981-f960-42a1-ad72-af581a31e76f",
   "metadata": {},
   "outputs": [
    {
     "name": "stdout",
     "output_type": "stream",
     "text": [
      "zsh:1: command not found: pip\n"
     ]
    }
   ],
   "source": [
    "!pip install gymnasium"
   ]
  },
  {
   "cell_type": "code",
   "execution_count": 1,
   "id": "6bfcec13-bcd2-4249-b5d3-2834d92c8678",
   "metadata": {},
   "outputs": [],
   "source": [
    "import numpy as np \n",
    "import gymnasium as gym\n",
    "import random \n",
    "import os\n",
    "import csv "
   ]
  },
  {
   "cell_type": "code",
   "execution_count": null,
   "id": "3a016060-51b5-477c-89dd-fcf4e43be7e8",
   "metadata": {},
   "outputs": [
    {
     "name": "stdout",
     "output_type": "stream",
     "text": [
      "Q-table chargée avec succès.\n",
      "Q-table sauvegardée à l'épisode 0\n"
     ]
    }
   ],
   "source": [
    "def main() : \n",
    "    # On créé l'environement du taxidriver \n",
    "    env = gym.make('Taxi-v3', render_mode=\"human\")\n",
    "    \n",
    "    # On initialise la q-table\n",
    "    state_size = env.observation_space.n\n",
    "    action_size = env.action_space.n \n",
    "\n",
    "    # On vérifie si une q-table préexistante est disponible pour chargement\n",
    "    qtable_filename = \"qtable.npy\"\n",
    "    if os.path.exists(qtable_filename):\n",
    "        qtable = np.load(qtable_filename)\n",
    "        print(\"Q-table chargée avec succès.\")\n",
    "    else:\n",
    "        # On créé un tableau de \"0\" si aucune q-table sauvegardée n'est trouvée\n",
    "        qtable = np.zeros((state_size, action_size))\n",
    "        print(\"Nouvelle Q-table initialisée.\")\n",
    "\n",
    "    # hyperparamètres\n",
    "    learning_rate = 0.9\n",
    "    discount_rate = 0.8\n",
    "    epsilon = 1 \n",
    "    decay_rate = 0.005\n",
    "\n",
    "    # variables d'entrainements\n",
    "    num_episodes = 50\n",
    "    num_steps = 99 # par épisode\n",
    "\n",
    "    # Création d'un fichier csv pour les metrics \n",
    "    metrics_filename = 'training_metrics.csv'\n",
    "    with open(metrics_filename, mode=\"w\", newline='') as file: \n",
    "        writer = csv.writer(file)\n",
    "        writer.writerow([\"Episode\", \"Total Rewards\", \"Steps\", \"Epsilon\"])\n",
    "\n",
    "    # Entrainement\n",
    "    for episode in range(num_episodes):\n",
    "        # On réinitialise l'environement\n",
    "        state, _ = env.reset()\n",
    "        total_rewards = 0 \n",
    "        steps= 0 \n",
    "        done = False \n",
    "\n",
    "        for step in range(num_steps):\n",
    "            # \"switch\" entre exploration et eploitation en fonction d'Epsilon\n",
    "            if random.uniform(0,1) < epsilon:\n",
    "                # exploration (action aléatoire) \n",
    "                action = env.action_space.sample()\n",
    "            else: \n",
    "                # exploitation (argmax récupère l'indice de la valeur la plus élevé dans la q table)\n",
    "                action = np.argmax(qtable[state,:])\n",
    "\n",
    "            # On effectue une action et on récupère la récompense\n",
    "            new_state, reward, done, info = env.step(action)[:4] \n",
    "\n",
    "            # Algorithme de Qlearning \n",
    "            exit()\n",
    "            qtable[state,action] = qtable[state,action] + learning_rate * (reward + discount_rate * np.max(qtable[new_state,:])-qtable[state,action])\n",
    "\n",
    "            # On met à jour l'état\n",
    "            state = new_state\n",
    "\n",
    "            if done == True:\n",
    "                break\n",
    "\n",
    "        # On met à jour Epsilon \n",
    "        epsilon = np.exp(-decay_rate * episode)\n",
    "\n",
    "        # On sauvegarde les metrics dans un csv \n",
    "        with open(metrics_filename, mode='a', newline='') as file:\n",
    "            writer = csv.writer(file)\n",
    "            writer.writerow([episode, total_rewards, steps, epsilon])\n",
    "            \n",
    "        if episode % 10 == 0:  # Sauvegarde tous les 10 épisodes\n",
    "            np.save(qtable_filename, qtable)\n",
    "            print(f\"Q-table sauvegardée à l'épisode {episode}\")\n",
    "\n",
    "    np.save(qtable_filename, qtable)\n",
    "    print(\"Q-table sauvegardée avec succès.\")\n",
    "\n",
    "    input(\"Appuyer sur entrée pour regarder l'agent entrainné...\")\n",
    "\n",
    "    # Regarder l'agent entrainné \n",
    "    state = env.reset()\n",
    "    done = False \n",
    "    rewards = 0 \n",
    "\n",
    "    \n",
    "    for s in range(num_steps):\n",
    "\n",
    "        print(f\"TRAINED AGENT\")\n",
    "        print(\"Step {}\".format(s+1))\n",
    "\n",
    "        action = np.argmax(qtable[state,:])\n",
    "        new_state, reward, done, info = env.step(action)\n",
    "        rewards += reward\n",
    "        env.render(mode=\"human\")\n",
    "        print(f\"score: {rewards}\")\n",
    "        state = new_state\n",
    "\n",
    "        if done == True:\n",
    "            break\n",
    "    env.close()   \n",
    "\n",
    "if __name__ == \"__main__\":\n",
    "    main()\n",
    "\n",
    "    \n",
    "    \n",
    "    "
   ]
  },
  {
   "cell_type": "code",
   "execution_count": 4,
   "id": "d30bfe1f-6102-41ea-b857-d43e2d25d1e6",
   "metadata": {
    "scrolled": true
   },
   "outputs": [],
   "source": []
  },
  {
   "cell_type": "code",
   "execution_count": null,
   "id": "2c1b8a77-eb0c-4c10-9cd8-665e465ebc87",
   "metadata": {},
   "outputs": [],
   "source": []
  }
 ],
 "metadata": {
  "kernelspec": {
   "display_name": "Python 3 (ipykernel)",
   "language": "python",
   "name": "python3"
  },
  "language_info": {
   "codemirror_mode": {
    "name": "ipython",
    "version": 3
   },
   "file_extension": ".py",
   "mimetype": "text/x-python",
   "name": "python",
   "nbconvert_exporter": "python",
   "pygments_lexer": "ipython3",
   "version": "3.11.6"
  }
 },
 "nbformat": 4,
 "nbformat_minor": 5
}
